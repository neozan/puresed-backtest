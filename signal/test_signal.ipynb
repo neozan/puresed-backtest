{
 "cells": [
  {
   "cell_type": "code",
   "execution_count": 1,
   "id": "bb1d101d",
   "metadata": {},
   "outputs": [],
   "source": [
    "import ccxt\n",
    "import numpy as np\n",
    "import pandas as pd\n",
    "import datetime as dt\n",
    "from dateutil import tz\n",
    "import matplotlib.pyplot as plt\n",
    "\n",
    "import json\n",
    "import time\n",
    "import os\n",
    "import sys"
   ]
  },
  {
   "cell_type": "code",
   "execution_count": 2,
   "id": "8ffa1b81",
   "metadata": {},
   "outputs": [],
   "source": [
    "src_path = '../src/'\n",
    "sys.path.append(os.path.abspath(src_path))\n",
    "from func_get import *\n",
    "from func_signal import *\n",
    "from func_backtest import *"
   ]
  },
  {
   "cell_type": "code",
   "execution_count": 3,
   "id": "6eb02c2e",
   "metadata": {},
   "outputs": [],
   "source": [
    "with open('../../../_keys/ftx/ftx_read_keys.json') as keys_file:\n",
    "    keys_dict = json.load(keys_file)\n",
    "    \n",
    "exchange = ccxt.ftx({'apiKey': keys_dict['apiKey'],\n",
    "                     'secret': keys_dict['secret'],\n",
    "                     'enableRateLimit': True})"
   ]
  },
  {
   "cell_type": "markdown",
   "id": "84ba48f1",
   "metadata": {},
   "source": [
    "### Config"
   ]
  },
  {
   "cell_type": "code",
   "execution_count": 4,
   "id": "04521c37",
   "metadata": {},
   "outputs": [],
   "source": [
    "symbol = 'ETH-PERP'\n",
    "timeframe = '15m'"
   ]
  },
  {
   "cell_type": "markdown",
   "id": "6f5f6ba1",
   "metadata": {},
   "source": [
    "### Get data"
   ]
  },
  {
   "cell_type": "code",
   "execution_count": 5,
   "id": "eda49a10",
   "metadata": {},
   "outputs": [],
   "source": [
    "ohlcv_df = get_ohlcv_df(exchange, symbol, timeframe, since=None, limit=1000)\n",
    "ohlcv_df = ohlcv_df.loc[:len(ohlcv_df) - 2, :]"
   ]
  },
  {
   "cell_type": "code",
   "execution_count": 6,
   "id": "508de816",
   "metadata": {},
   "outputs": [
    {
     "data": {
      "text/html": [
       "<div>\n",
       "<style scoped>\n",
       "    .dataframe tbody tr th:only-of-type {\n",
       "        vertical-align: middle;\n",
       "    }\n",
       "\n",
       "    .dataframe tbody tr th {\n",
       "        vertical-align: top;\n",
       "    }\n",
       "\n",
       "    .dataframe thead th {\n",
       "        text-align: right;\n",
       "    }\n",
       "</style>\n",
       "<table border=\"1\" class=\"dataframe\">\n",
       "  <thead>\n",
       "    <tr style=\"text-align: right;\">\n",
       "      <th></th>\n",
       "      <th>time</th>\n",
       "      <th>open</th>\n",
       "      <th>high</th>\n",
       "      <th>low</th>\n",
       "      <th>close</th>\n",
       "      <th>volume</th>\n",
       "    </tr>\n",
       "  </thead>\n",
       "  <tbody>\n",
       "    <tr>\n",
       "      <th>0</th>\n",
       "      <td>2022-02-21 10:15:00</td>\n",
       "      <td>2730.9</td>\n",
       "      <td>2740.7</td>\n",
       "      <td>2723.1</td>\n",
       "      <td>2723.6</td>\n",
       "      <td>1.272632e+07</td>\n",
       "    </tr>\n",
       "    <tr>\n",
       "      <th>1</th>\n",
       "      <td>2022-02-21 10:30:00</td>\n",
       "      <td>2723.6</td>\n",
       "      <td>2725.9</td>\n",
       "      <td>2708.2</td>\n",
       "      <td>2714.0</td>\n",
       "      <td>2.166554e+07</td>\n",
       "    </tr>\n",
       "    <tr>\n",
       "      <th>2</th>\n",
       "      <td>2022-02-21 10:45:00</td>\n",
       "      <td>2714.0</td>\n",
       "      <td>2715.8</td>\n",
       "      <td>2704.6</td>\n",
       "      <td>2712.1</td>\n",
       "      <td>9.992556e+06</td>\n",
       "    </tr>\n",
       "    <tr>\n",
       "      <th>3</th>\n",
       "      <td>2022-02-21 11:00:00</td>\n",
       "      <td>2712.1</td>\n",
       "      <td>2727.4</td>\n",
       "      <td>2711.3</td>\n",
       "      <td>2723.5</td>\n",
       "      <td>1.640531e+07</td>\n",
       "    </tr>\n",
       "    <tr>\n",
       "      <th>4</th>\n",
       "      <td>2022-02-21 11:15:00</td>\n",
       "      <td>2723.5</td>\n",
       "      <td>2725.5</td>\n",
       "      <td>2717.8</td>\n",
       "      <td>2718.4</td>\n",
       "      <td>5.623949e+06</td>\n",
       "    </tr>\n",
       "    <tr>\n",
       "      <th>...</th>\n",
       "      <td>...</td>\n",
       "      <td>...</td>\n",
       "      <td>...</td>\n",
       "      <td>...</td>\n",
       "      <td>...</td>\n",
       "      <td>...</td>\n",
       "    </tr>\n",
       "    <tr>\n",
       "      <th>994</th>\n",
       "      <td>2022-03-03 18:45:00</td>\n",
       "      <td>2922.5</td>\n",
       "      <td>2922.5</td>\n",
       "      <td>2911.6</td>\n",
       "      <td>2913.6</td>\n",
       "      <td>1.107504e+07</td>\n",
       "    </tr>\n",
       "    <tr>\n",
       "      <th>995</th>\n",
       "      <td>2022-03-03 19:00:00</td>\n",
       "      <td>2913.6</td>\n",
       "      <td>2921.1</td>\n",
       "      <td>2904.9</td>\n",
       "      <td>2912.8</td>\n",
       "      <td>9.312756e+06</td>\n",
       "    </tr>\n",
       "    <tr>\n",
       "      <th>996</th>\n",
       "      <td>2022-03-03 19:15:00</td>\n",
       "      <td>2912.8</td>\n",
       "      <td>2932.3</td>\n",
       "      <td>2912.8</td>\n",
       "      <td>2929.6</td>\n",
       "      <td>1.744584e+07</td>\n",
       "    </tr>\n",
       "    <tr>\n",
       "      <th>997</th>\n",
       "      <td>2022-03-03 19:30:00</td>\n",
       "      <td>2929.6</td>\n",
       "      <td>2931.6</td>\n",
       "      <td>2914.5</td>\n",
       "      <td>2914.5</td>\n",
       "      <td>1.095766e+07</td>\n",
       "    </tr>\n",
       "    <tr>\n",
       "      <th>998</th>\n",
       "      <td>2022-03-03 19:45:00</td>\n",
       "      <td>2914.5</td>\n",
       "      <td>2916.7</td>\n",
       "      <td>2907.6</td>\n",
       "      <td>2915.7</td>\n",
       "      <td>8.761000e+06</td>\n",
       "    </tr>\n",
       "  </tbody>\n",
       "</table>\n",
       "<p>999 rows × 6 columns</p>\n",
       "</div>"
      ],
      "text/plain": [
       "                   time    open    high     low   close        volume\n",
       "0   2022-02-21 10:15:00  2730.9  2740.7  2723.1  2723.6  1.272632e+07\n",
       "1   2022-02-21 10:30:00  2723.6  2725.9  2708.2  2714.0  2.166554e+07\n",
       "2   2022-02-21 10:45:00  2714.0  2715.8  2704.6  2712.1  9.992556e+06\n",
       "3   2022-02-21 11:00:00  2712.1  2727.4  2711.3  2723.5  1.640531e+07\n",
       "4   2022-02-21 11:15:00  2723.5  2725.5  2717.8  2718.4  5.623949e+06\n",
       "..                  ...     ...     ...     ...     ...           ...\n",
       "994 2022-03-03 18:45:00  2922.5  2922.5  2911.6  2913.6  1.107504e+07\n",
       "995 2022-03-03 19:00:00  2913.6  2921.1  2904.9  2912.8  9.312756e+06\n",
       "996 2022-03-03 19:15:00  2912.8  2932.3  2912.8  2929.6  1.744584e+07\n",
       "997 2022-03-03 19:30:00  2929.6  2931.6  2914.5  2914.5  1.095766e+07\n",
       "998 2022-03-03 19:45:00  2914.5  2916.7  2907.6  2915.7  8.761000e+06\n",
       "\n",
       "[999 rows x 6 columns]"
      ]
     },
     "execution_count": 6,
     "metadata": {},
     "output_type": "execute_result"
    }
   ],
   "source": [
    "ohlcv_df"
   ]
  },
  {
   "cell_type": "markdown",
   "id": "55127ac8",
   "metadata": {},
   "source": [
    "### Signal"
   ]
  },
  {
   "cell_type": "markdown",
   "id": "524ba501",
   "metadata": {},
   "source": [
    "### Donchian"
   ]
  },
  {
   "cell_type": "code",
   "execution_count": null,
   "id": "67f53e86",
   "metadata": {},
   "outputs": [],
   "source": [
    "def add_donchian(ohlcv_df):\n",
    "    def get_donchian_side(ohlcv_df):\n",
    "        if ohlcv_df['close'] > ohlcv_df['max_high']:\n",
    "            signal_side = 'buy'\n",
    "        elif ohlcv_df['close'] < ohlcv_df['min_low']:\n",
    "            signal_side = 'sell'\n",
    "        else:\n",
    "            signal_side = np.nan\n",
    "\n",
    "        return signal_side\n",
    "    \n",
    "    \n",
    "    signal_dict = {\n",
    "        'windows': 30,\n",
    "        'revert': False\n",
    "    }\n",
    "    \n",
    "    windows = signal_dict['windows']\n",
    "    \n",
    "    temp_df = ohlcv_df.copy()\n",
    "\n",
    "    max_high_list = temp_df['high'].rolling(window=signal_dict['windows']).max()\n",
    "    min_low_list = temp_df['low'].rolling(window=signal_dict['windows']).min()\n",
    "    \n",
    "    temp_df['max_high'] = max_high_list\n",
    "    temp_df['min_low'] = min_low_list\n",
    "    \n",
    "    temp_df['max_high'] = temp_df['max_high'].shift(periods=1)\n",
    "    temp_df['min_low'] = temp_df['min_low'].shift(periods=1)\n",
    "    temp_df['donchian'] = temp_df.apply(get_donchian_side, axis=1)\n",
    "    \n",
    "    donchian_list = temp_df['donchian'].fillna(method='ffill')\n",
    "    ohlcv_df['donchian'] = donchian_list\n",
    "    \n",
    "    return ohlcv_df"
   ]
  },
  {
   "cell_type": "code",
   "execution_count": null,
   "id": "6ae76c2a",
   "metadata": {},
   "outputs": [],
   "source": [
    "test_df = add_donchian(ohlcv_df)"
   ]
  },
  {
   "cell_type": "code",
   "execution_count": null,
   "id": "562d83fe",
   "metadata": {},
   "outputs": [],
   "source": [
    "test_df"
   ]
  },
  {
   "cell_type": "markdown",
   "id": "33d60c34",
   "metadata": {},
   "source": [
    "### Hull"
   ]
  },
  {
   "cell_type": "code",
   "execution_count": 7,
   "id": "eb6e6903",
   "metadata": {},
   "outputs": [],
   "source": [
    "def add_hull(ohlcv_df):\n",
    "    def cal_wma(series):\n",
    "        weight_list = list(range(1, len(series) + 1))\n",
    "        weighted_average_list = [i * j for i, j in zip(series, weight_list)]\n",
    "\n",
    "        wma = sum(weighted_average_list) / sum(weight_list)\n",
    "\n",
    "        return wma\n",
    "    \n",
    "    \n",
    "    def add_wma(df, input_col, windows):\n",
    "        wma_list = [None] * (windows - 1)\n",
    "\n",
    "        for i in range(len(df) - (windows - 1)):\n",
    "            close_series = df.loc[i:i + (windows - 1), input_col]\n",
    "            wma = cal_wma(close_series)\n",
    "            wma_list.append(wma)\n",
    "\n",
    "        return wma_list\n",
    "    \n",
    "    \n",
    "    def get_hull_side(ohlcv_df):\n",
    "        if ohlcv_df['hull'] > ohlcv_df['hull_prev']:\n",
    "            signal_side = 'buy'\n",
    "        else:\n",
    "            signal_side = 'sell'\n",
    "\n",
    "        return signal_side\n",
    "    \n",
    "    \n",
    "    signal_dict = {\n",
    "        'windows': 180,\n",
    "        'revert': False\n",
    "    }\n",
    "\n",
    "    windows = signal_dict['windows']\n",
    "    \n",
    "    temp_df = ohlcv_df.copy()\n",
    "\n",
    "    temp_df['hwma'] = add_wma(temp_df, 'close', int(round(windows / 2)))\n",
    "    temp_df['wma'] = add_wma(temp_df, 'close', windows)\n",
    "    temp_df['twma'] = (2 * temp_df['hwma']) - temp_df['wma']\n",
    "    temp_df['hull'] = add_wma(temp_df, 'twma', int(round(windows ** (1 / 2))))\n",
    "    temp_df['hull_prev'] = temp_df['hull'].shift(periods=2)\n",
    "    temp_df['hull_side'] = temp_df.apply(get_hull_side, axis=1)\n",
    "    \n",
    "    ohlcv_df['hull_side'] = temp_df['hull_side']\n",
    "    \n",
    "    return ohlcv_df"
   ]
  },
  {
   "cell_type": "code",
   "execution_count": 8,
   "id": "14ebf324",
   "metadata": {},
   "outputs": [],
   "source": [
    "test_df = add_hull(ohlcv_df)"
   ]
  },
  {
   "cell_type": "code",
   "execution_count": 12,
   "id": "7c1354ac",
   "metadata": {},
   "outputs": [],
   "source": [
    "test_df.to_csv(\"hull.csv\")"
   ]
  },
  {
   "cell_type": "code",
   "execution_count": null,
   "id": "45358013",
   "metadata": {},
   "outputs": [],
   "source": []
  }
 ],
 "metadata": {
  "kernelspec": {
   "display_name": "Python 3 (ipykernel)",
   "language": "python",
   "name": "python3"
  },
  "language_info": {
   "codemirror_mode": {
    "name": "ipython",
    "version": 3
   },
   "file_extension": ".py",
   "mimetype": "text/x-python",
   "name": "python",
   "nbconvert_exporter": "python",
   "pygments_lexer": "ipython3",
   "version": "3.9.7"
  }
 },
 "nbformat": 4,
 "nbformat_minor": 5
}
